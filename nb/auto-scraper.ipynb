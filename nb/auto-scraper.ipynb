{
 "cells": [
  {
   "cell_type": "code",
   "execution_count": 2,
   "metadata": {},
   "outputs": [],
   "source": [
    "from autoscraper import AutoScraper\n",
    "import requests\n",
    "\n",
    "url = 'https://thienvadia.net/diendan/threads/12-nu-than.1017421/page-2952'"
   ]
  },
  {
   "cell_type": "code",
   "execution_count": 6,
   "metadata": {},
   "outputs": [
    {
     "name": "stdout",
     "output_type": "stream",
     "text": [
      "None\n"
     ]
    }
   ],
   "source": [
    "# We can add one or multiple candidates here.\n",
    "# You can also put urls here to retrieve urls.\n",
    "wanted_list = [\"Chương\", \"Dương\", \"Thục Trinh\"]\n",
    "\n",
    "scraper = AutoScraper()\n",
    "result = scraper.build(url, wanted_list)\n",
    "print(result)"
   ]
  },
  {
   "cell_type": "code",
   "execution_count": 40,
   "metadata": {},
   "outputs": [],
   "source": [
    "html_table = requests.post(\n",
    "    'https://vietlott.vn/ajaxpro/Vietlott.PlugIn.WebParts.Game655CompareWebPart,Vietlott.PlugIn.WebParts.ashx',\n",
    "    headers={\n",
    "        \"User-Agent\": \"Mozilla/5.0 (Macintosh; Intel Mac OS X 10.15; rv:80.0) Gecko/20100101 Firefox/80.0\",\n",
    "        \"Accept\": \"*/*\",\n",
    "        \"Accept-Language\": \"en-US,en;q=0.5\",\n",
    "        \"Content-Type\": \"text/plain; charset=utf-8\",\n",
    "        \"X-AjaxPro-Method\": \"ServerSideDrawResult\"\n",
    "    },\n",
    "    json={\n",
    "  \"ORenderInfo\": {\n",
    "    \"SiteId\": \"main.frontend.vi\",\n",
    "    \"SiteAlias\": \"main.vi\",\n",
    "    \"UserSessionId\": \"\",\n",
    "    \"SiteLang\": \"en\",\n",
    "    \"IsPageDesign\": False,\n",
    "    \"ExtraParam1\": \"\",\n",
    "    \"ExtraParam2\": \"\",\n",
    "    \"ExtraParam3\": \"\",\n",
    "    \"SiteURL\": \"\",\n",
    "    \"WebPage\": None,\n",
    "    \"SiteName\": \"Vietlott\",\n",
    "    \"OrgPageAlias\": None,\n",
    "    \"PageAlias\": None,\n",
    "    \"FullPageAlias\": None,\n",
    "    \"RefKey\": None,\n",
    "    \"System\": 1\n",
    "  },\n",
    "  \"Key\": \"23bbd667\",\n",
    "  \"GameDrawId\": \"\",\n",
    "  \"ArrayNumbers\": [\n",
    "    [\n",
    "      \"\",\n",
    "      \"\",\n",
    "      \"\",\n",
    "      \"\",\n",
    "      \"\",\n",
    "      \"\",\n",
    "      \"\",\n",
    "      \"\",\n",
    "      \"\",\n",
    "      \"\",\n",
    "      \"\",\n",
    "      \"\",\n",
    "      \"\",\n",
    "      \"\",\n",
    "      \"\",\n",
    "      \"\",\n",
    "      \"\",\n",
    "      \"\"\n",
    "    ],\n",
    "    [\n",
    "      \"\",\n",
    "      \"\",\n",
    "      \"\",\n",
    "      \"\",\n",
    "      \"\",\n",
    "      \"\",\n",
    "      \"\",\n",
    "      \"\",\n",
    "      \"\",\n",
    "      \"\",\n",
    "      \"\",\n",
    "      \"\",\n",
    "      \"\",\n",
    "      \"\",\n",
    "      \"\",\n",
    "      \"\",\n",
    "      \"\",\n",
    "      \"\"\n",
    "    ],\n",
    "    [\n",
    "      \"\",\n",
    "      \"\",\n",
    "      \"\",\n",
    "      \"\",\n",
    "      \"\",\n",
    "      \"\",\n",
    "      \"\",\n",
    "      \"\",\n",
    "      \"\",\n",
    "      \"\",\n",
    "      \"\",\n",
    "      \"\",\n",
    "      \"\",\n",
    "      \"\",\n",
    "      \"\",\n",
    "      \"\",\n",
    "      \"\",\n",
    "      \"\"\n",
    "    ],\n",
    "    [\n",
    "      \"\",\n",
    "      \"\",\n",
    "      \"\",\n",
    "      \"\",\n",
    "      \"\",\n",
    "      \"\",\n",
    "      \"\",\n",
    "      \"\",\n",
    "      \"\",\n",
    "      \"\",\n",
    "      \"\",\n",
    "      \"\",\n",
    "      \"\",\n",
    "      \"\",\n",
    "      \"\",\n",
    "      \"\",\n",
    "      \"\",\n",
    "      \"\"\n",
    "    ],\n",
    "    [\n",
    "      \"\",\n",
    "      \"\",\n",
    "      \"\",\n",
    "      \"\",\n",
    "      \"\",\n",
    "      \"\",\n",
    "      \"\",\n",
    "      \"\",\n",
    "      \"\",\n",
    "      \"\",\n",
    "      \"\",\n",
    "      \"\",\n",
    "      \"\",\n",
    "      \"\",\n",
    "      \"\",\n",
    "      \"\",\n",
    "      \"\",\n",
    "      \"\"\n",
    "    ]\n",
    "  ],\n",
    "  \"CheckMulti\": False,\n",
    "  \"PageIndex\": 0\n",
    "}\n",
    ").json().get('value', {}).get('HtmlContent', '')"
   ]
  },
  {
   "cell_type": "code",
   "execution_count": 39,
   "metadata": {
    "scrolled": true
   },
   "outputs": [
    {
     "data": {
      "text/plain": [
       "'Index was outside the bounds of the array.'"
      ]
     },
     "execution_count": 39,
     "metadata": {},
     "output_type": "execute_result"
    }
   ],
   "source": [
    "html_table"
   ]
  },
  {
   "cell_type": "code",
   "execution_count": 19,
   "metadata": {},
   "outputs": [],
   "source": [
    "from bs4 import BeautifulSoup"
   ]
  },
  {
   "cell_type": "code",
   "execution_count": 20,
   "metadata": {},
   "outputs": [],
   "source": [
    "soup = BeautifulSoup(html_table, 'lxml')"
   ]
  },
  {
   "cell_type": "code",
   "execution_count": 28,
   "metadata": {},
   "outputs": [],
   "source": [
    "tr_rows = soup.find_all('tr')"
   ]
  },
  {
   "cell_type": "code",
   "execution_count": 29,
   "metadata": {},
   "outputs": [],
   "source": [
    "keys = [\n",
    "    th.text\n",
    "    for th in\n",
    "    tr_rows[0].find_all('th')\n",
    "]"
   ]
  },
  {
   "cell_type": "code",
   "execution_count": 35,
   "metadata": {},
   "outputs": [],
   "source": [
    "values = [\n",
    "    \n",
    "    for row in tr_rows[1:]\n",
    "    for td in row.find_all('td')\n",
    "]"
   ]
  },
  {
   "cell_type": "code",
   "execution_count": 36,
   "metadata": {},
   "outputs": [
    {
     "data": {
      "text/plain": [
       "[<td>17/09/2020</td>,\n",
       " <td><a href=\"/en/trung-thuong/ket-qua-trung-thuong/655?id=00477&amp;nocatche=1\" target=\"_self\">00477</a></td>,\n",
       " <td>\n",
       " <div class=\"day_so_ket_qua_v2\" style=\"padding-top:15px\">\n",
       " <span class=\"bong_tron\">01</span><span class=\"bong_tron\">05</span><span class=\"bong_tron\">28</span><span class=\"bong_tron\">43</span><span class=\"bong_tron\">44</span><span class=\"bong_tron no-margin-right\">53</span> <span class=\"bong_tron-sperator\">|</span><span class=\"bong_tron no-margin-right\">49</span>\n",
       " </div><!-- /day_so_ket_qua -->\n",
       " </td>,\n",
       " <td>15/09/2020</td>,\n",
       " <td><a href=\"/en/trung-thuong/ket-qua-trung-thuong/655?id=00476&amp;nocatche=1\" target=\"_self\">00476</a></td>,\n",
       " <td>\n",
       " <div class=\"day_so_ket_qua_v2\" style=\"padding-top:15px\">\n",
       " <span class=\"bong_tron\">13</span><span class=\"bong_tron\">14</span><span class=\"bong_tron\">15</span><span class=\"bong_tron\">17</span><span class=\"bong_tron\">26</span><span class=\"bong_tron no-margin-right\">53</span> <span class=\"bong_tron-sperator\">|</span><span class=\"bong_tron no-margin-right\">21</span>\n",
       " </div><!-- /day_so_ket_qua -->\n",
       " </td>,\n",
       " <td>12/09/2020</td>,\n",
       " <td><a href=\"/en/trung-thuong/ket-qua-trung-thuong/655?id=00475&amp;nocatche=1\" target=\"_self\">00475</a></td>,\n",
       " <td>\n",
       " <div class=\"day_so_ket_qua_v2\" style=\"padding-top:15px\">\n",
       " <span class=\"bong_tron\">20</span><span class=\"bong_tron\">21</span><span class=\"bong_tron\">24</span><span class=\"bong_tron\">30</span><span class=\"bong_tron\">31</span><span class=\"bong_tron no-margin-right\">44</span> <span class=\"bong_tron-sperator\">|</span><span class=\"bong_tron no-margin-right\">40</span>\n",
       " </div><!-- /day_so_ket_qua -->\n",
       " </td>,\n",
       " <td>10/09/2020</td>,\n",
       " <td><a href=\"/en/trung-thuong/ket-qua-trung-thuong/655?id=00474&amp;nocatche=1\" target=\"_self\">00474</a></td>,\n",
       " <td>\n",
       " <div class=\"day_so_ket_qua_v2\" style=\"padding-top:15px\">\n",
       " <span class=\"bong_tron\">18</span><span class=\"bong_tron\">25</span><span class=\"bong_tron\">27</span><span class=\"bong_tron\">37</span><span class=\"bong_tron\">45</span><span class=\"bong_tron no-margin-right\">50</span> <span class=\"bong_tron-sperator\">|</span><span class=\"bong_tron no-margin-right\">52</span>\n",
       " </div><!-- /day_so_ket_qua -->\n",
       " </td>,\n",
       " <td>08/09/2020</td>,\n",
       " <td><a href=\"/en/trung-thuong/ket-qua-trung-thuong/655?id=00473&amp;nocatche=1\" target=\"_self\">00473</a></td>,\n",
       " <td>\n",
       " <div class=\"day_so_ket_qua_v2\" style=\"padding-top:15px\">\n",
       " <span class=\"bong_tron\">22</span><span class=\"bong_tron\">47</span><span class=\"bong_tron\">48</span><span class=\"bong_tron\">52</span><span class=\"bong_tron\">53</span><span class=\"bong_tron no-margin-right\">55</span> <span class=\"bong_tron-sperator\">|</span><span class=\"bong_tron no-margin-right\">14</span>\n",
       " </div><!-- /day_so_ket_qua -->\n",
       " </td>,\n",
       " <td>05/09/2020</td>,\n",
       " <td><a href=\"/en/trung-thuong/ket-qua-trung-thuong/655?id=00472&amp;nocatche=1\" target=\"_self\">00472</a></td>,\n",
       " <td>\n",
       " <div class=\"day_so_ket_qua_v2\" style=\"padding-top:15px\">\n",
       " <span class=\"bong_tron\">09</span><span class=\"bong_tron\">12</span><span class=\"bong_tron\">19</span><span class=\"bong_tron\">22</span><span class=\"bong_tron\">31</span><span class=\"bong_tron no-margin-right\">46</span> <span class=\"bong_tron-sperator\">|</span><span class=\"bong_tron no-margin-right\">20</span>\n",
       " </div><!-- /day_so_ket_qua -->\n",
       " </td>,\n",
       " <td>03/09/2020</td>,\n",
       " <td><a href=\"/en/trung-thuong/ket-qua-trung-thuong/655?id=00471&amp;nocatche=1\" target=\"_self\">00471</a></td>,\n",
       " <td>\n",
       " <div class=\"day_so_ket_qua_v2\" style=\"padding-top:15px\">\n",
       " <span class=\"bong_tron\">07</span><span class=\"bong_tron\">09</span><span class=\"bong_tron\">18</span><span class=\"bong_tron\">22</span><span class=\"bong_tron\">35</span><span class=\"bong_tron no-margin-right\">54</span> <span class=\"bong_tron-sperator\">|</span><span class=\"bong_tron no-margin-right\">50</span>\n",
       " </div><!-- /day_so_ket_qua -->\n",
       " </td>,\n",
       " <td>01/09/2020</td>,\n",
       " <td><a href=\"/en/trung-thuong/ket-qua-trung-thuong/655?id=00470&amp;nocatche=1\" target=\"_self\">00470</a></td>,\n",
       " <td>\n",
       " <div class=\"day_so_ket_qua_v2\" style=\"padding-top:15px\">\n",
       " <span class=\"bong_tron\">11</span><span class=\"bong_tron\">22</span><span class=\"bong_tron\">24</span><span class=\"bong_tron\">47</span><span class=\"bong_tron\">49</span><span class=\"bong_tron no-margin-right\">53</span> <span class=\"bong_tron-sperator\">|</span><span class=\"bong_tron no-margin-right\">03</span>\n",
       " </div><!-- /day_so_ket_qua -->\n",
       " </td>]"
      ]
     },
     "execution_count": 36,
     "metadata": {},
     "output_type": "execute_result"
    }
   ],
   "source": [
    "values"
   ]
  },
  {
   "cell_type": "code",
   "execution_count": null,
   "metadata": {},
   "outputs": [],
   "source": []
  }
 ],
 "metadata": {
  "kernelspec": {
   "display_name": "Python 3",
   "language": "python",
   "name": "python3"
  },
  "language_info": {
   "codemirror_mode": {
    "name": "ipython",
    "version": 3
   },
   "file_extension": ".py",
   "mimetype": "text/x-python",
   "name": "python",
   "nbconvert_exporter": "python",
   "pygments_lexer": "ipython3",
   "version": "3.8.6"
  }
 },
 "nbformat": 4,
 "nbformat_minor": 4
}
